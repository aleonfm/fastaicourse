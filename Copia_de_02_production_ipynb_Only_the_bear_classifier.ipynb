{
  "cells": [
    {
      "cell_type": "markdown",
      "metadata": {
        "id": "view-in-github",
        "colab_type": "text"
      },
      "source": [
        "<a href=\"https://colab.research.google.com/github/aleonfm/fastaicourse/blob/main/Copia_de_02_production_ipynb_Only_the_bear_classifier.ipynb\" target=\"_parent\"><img src=\"https://colab.research.google.com/assets/colab-badge.svg\" alt=\"Open In Colab\"/></a>"
      ]
    },
    {
      "cell_type": "code",
      "execution_count": 2,
      "metadata": {
        "id": "1Pz1fTDBNN_P"
      },
      "outputs": [],
      "source": [
        "#hide\n",
        "! [ -e /content ] && pip install -Uqq fastbook\n",
        "import fastbook\n",
        "fastbook.setup_book()"
      ]
    },
    {
      "cell_type": "code",
      "execution_count": 3,
      "metadata": {
        "id": "oV5yRetfNN_Y"
      },
      "outputs": [],
      "source": [
        "#hide\n",
        "from fastbook import *\n",
        "from fastai.vision.widgets import *"
      ]
    },
    {
      "cell_type": "code",
      "execution_count": null,
      "metadata": {
        "id": "0qyxdVeANN_u"
      },
      "outputs": [],
      "source": [
        "#path = Path()\n",
        "#path.ls(file_exts='.pkl')"
      ]
    },
    {
      "cell_type": "code",
      "execution_count": null,
      "metadata": {
        "id": "K_coEgBZNN_u"
      },
      "outputs": [],
      "source": [
        "#learn_inf = load_learner(path/'export.pkl')"
      ]
    },
    {
      "cell_type": "code",
      "source": [
        "learn_inf = load_learner('gdrive/MyDrive/Colab Notebooks/bear_classifier.pkl')"
      ],
      "metadata": {
        "id": "dMYwI2BP2Mc2"
      },
      "execution_count": 4,
      "outputs": []
    },
    {
      "cell_type": "code",
      "execution_count": 6,
      "metadata": {
        "id": "LSH1uU21NN_v",
        "colab": {
          "base_uri": "https://localhost:8080/"
        },
        "outputId": "21066910-a3f5-4a6d-abcd-caa5c39e1873"
      },
      "outputs": [
        {
          "output_type": "execute_result",
          "data": {
            "text/plain": [
              "['black', 'grizzly', 'teddy']"
            ]
          },
          "metadata": {},
          "execution_count": 6
        }
      ],
      "source": [
        "learn_inf.dls.vocab"
      ]
    },
    {
      "cell_type": "markdown",
      "metadata": {
        "id": "4Z2sXYWpNN_v"
      },
      "source": [
        "### Creating a Notebook App from the Model"
      ]
    },
    {
      "cell_type": "code",
      "execution_count": 13,
      "metadata": {
        "id": "WUFKC6erNN_z"
      },
      "outputs": [],
      "source": [
        "btn_upload = widgets.FileUpload()\n",
        "out_pl = widgets.Output()\n",
        "btn_run = widgets.Button(description='Classify')\n",
        "lbl_pred = widgets.Label()"
      ]
    },
    {
      "cell_type": "code",
      "execution_count": 14,
      "metadata": {
        "id": "RReH5U_QNN_0"
      },
      "outputs": [],
      "source": [
        "def on_click_classify(change):\n",
        "    img = PILImage.create(btn_upload.data[-1])\n",
        "    out_pl.clear_output()\n",
        "    with out_pl: display(img.to_thumb(128,128))\n",
        "    pred,pred_idx,probs = learn_inf.predict(img)\n",
        "    lbl_pred.value = f'Prediction: {pred}; Probability: {probs[pred_idx]:.04f}'\n",
        "\n",
        "btn_run.on_click(on_click_classify)"
      ]
    },
    {
      "cell_type": "code",
      "execution_count": 15,
      "metadata": {
        "id": "NANnzn06NN_1",
        "colab": {
          "base_uri": "https://localhost:8080/",
          "height": 241,
          "referenced_widgets": [
            "860551269b4c48e1b742257a28642122",
            "04fafabd51b54f0d935e6c37e5902d00",
            "e6fc29164ac54053958c9653119f6b8f",
            "0f07d2e73a644110b47e8511d6b81f8d",
            "004d2c2b45b04eff91d0f17b5b9db34f",
            "4b5ef854327244a8a40f8bb12a60730f",
            "ece97fa6758646d2804de7c4d7adb7f2",
            "012a085a399f49219a8ef89c8c3114de",
            "cb93a9eb09b04f378e44a313fcee7dc7",
            "3162f4f940974a5c88a4f4cd518b66aa",
            "5c7b36938fb14514be05a8999109acbc",
            "0755d1bcdf1b4783a3cbf1ec9ae7304d",
            "f923b61aab384c519c76efd3668613cf",
            "61fc4552c0ad4c75b0ddeebf649de2f3",
            "92a747b65aca4198a56c0db90c813869",
            "d969be746b204426a4337f4d7e97193a"
          ]
        },
        "outputId": "2e27cf15-c4be-4a21-d37a-4e62e990f0e5"
      },
      "outputs": [
        {
          "output_type": "display_data",
          "data": {
            "text/plain": [
              "VBox(children=(Label(value='Select your bear!'), FileUpload(value={}, description='Upload'), Button(descriptio…"
            ],
            "application/vnd.jupyter.widget-view+json": {
              "version_major": 2,
              "version_minor": 0,
              "model_id": "860551269b4c48e1b742257a28642122"
            }
          },
          "metadata": {}
        },
        {
          "output_type": "display_data",
          "data": {
            "text/plain": [
              "<IPython.core.display.HTML object>"
            ],
            "text/html": [
              "\n",
              "<style>\n",
              "    /* Turns off some styling */\n",
              "    progress {\n",
              "        /* gets rid of default border in Firefox and Opera. */\n",
              "        border: none;\n",
              "        /* Needs to be in here for Safari polyfill so background images work as expected. */\n",
              "        background-size: auto;\n",
              "    }\n",
              "    .progress-bar-interrupted, .progress-bar-interrupted::-webkit-progress-bar {\n",
              "        background: #F44336;\n",
              "    }\n",
              "</style>\n"
            ]
          },
          "metadata": {}
        },
        {
          "output_type": "display_data",
          "data": {
            "text/plain": [
              "<IPython.core.display.HTML object>"
            ],
            "text/html": [
              ""
            ]
          },
          "metadata": {}
        }
      ],
      "source": [
        "VBox([widgets.Label('Select your bear!'), \n",
        "      btn_upload, btn_run, out_pl, lbl_pred])"
      ]
    }
  ],
  "metadata": {
    "jupytext": {
      "split_at_heading": true
    },
    "kernelspec": {
      "display_name": "Python 3",
      "language": "python",
      "name": "python3"
    },
    "colab": {
      "name": "Copia de 02_production.ipynb - Only the bear classifier",
      "provenance": [],
      "include_colab_link": true
    },
    "accelerator": "GPU",
    "widgets": {
      "application/vnd.jupyter.widget-state+json": {
        "860551269b4c48e1b742257a28642122": {
          "model_module": "@jupyter-widgets/controls",
          "model_name": "VBoxModel",
          "model_module_version": "1.5.0",
          "state": {
            "_dom_classes": [],
            "_model_module": "@jupyter-widgets/controls",
            "_model_module_version": "1.5.0",
            "_model_name": "VBoxModel",
            "_view_count": null,
            "_view_module": "@jupyter-widgets/controls",
            "_view_module_version": "1.5.0",
            "_view_name": "VBoxView",
            "box_style": "",
            "children": [
              "IPY_MODEL_04fafabd51b54f0d935e6c37e5902d00",
              "IPY_MODEL_e6fc29164ac54053958c9653119f6b8f",
              "IPY_MODEL_0f07d2e73a644110b47e8511d6b81f8d",
              "IPY_MODEL_004d2c2b45b04eff91d0f17b5b9db34f",
              "IPY_MODEL_4b5ef854327244a8a40f8bb12a60730f"
            ],
            "layout": "IPY_MODEL_ece97fa6758646d2804de7c4d7adb7f2"
          }
        },
        "04fafabd51b54f0d935e6c37e5902d00": {
          "model_module": "@jupyter-widgets/controls",
          "model_name": "LabelModel",
          "model_module_version": "1.5.0",
          "state": {
            "_dom_classes": [],
            "_model_module": "@jupyter-widgets/controls",
            "_model_module_version": "1.5.0",
            "_model_name": "LabelModel",
            "_view_count": null,
            "_view_module": "@jupyter-widgets/controls",
            "_view_module_version": "1.5.0",
            "_view_name": "LabelView",
            "description": "",
            "description_tooltip": null,
            "layout": "IPY_MODEL_012a085a399f49219a8ef89c8c3114de",
            "placeholder": "​",
            "style": "IPY_MODEL_cb93a9eb09b04f378e44a313fcee7dc7",
            "value": "Select your bear!"
          }
        },
        "e6fc29164ac54053958c9653119f6b8f": {
          "model_module": "@jupyter-widgets/controls",
          "model_name": "FileUploadModel",
          "model_module_version": "1.5.0",
          "state": {
            "_counter": 1,
            "_dom_classes": [],
            "_model_module": "@jupyter-widgets/controls",
            "_model_module_version": "1.5.0",
            "_model_name": "FileUploadModel",
            "_view_count": null,
            "_view_module": "@jupyter-widgets/controls",
            "_view_module_version": "1.5.0",
            "_view_name": "FileUploadView",
            "accept": "",
            "button_style": "",
            "data": [
              null
            ],
            "description": "Upload",
            "description_tooltip": null,
            "disabled": false,
            "error": "",
            "icon": "upload",
            "layout": "IPY_MODEL_3162f4f940974a5c88a4f4cd518b66aa",
            "metadata": [
              {
                "name": "grizzly bear.jpg",
                "type": "image/jpeg",
                "size": 649809,
                "lastModified": 1654528145669
              }
            ],
            "multiple": false,
            "style": "IPY_MODEL_5c7b36938fb14514be05a8999109acbc"
          }
        },
        "0f07d2e73a644110b47e8511d6b81f8d": {
          "model_module": "@jupyter-widgets/controls",
          "model_name": "ButtonModel",
          "model_module_version": "1.5.0",
          "state": {
            "_dom_classes": [],
            "_model_module": "@jupyter-widgets/controls",
            "_model_module_version": "1.5.0",
            "_model_name": "ButtonModel",
            "_view_count": null,
            "_view_module": "@jupyter-widgets/controls",
            "_view_module_version": "1.5.0",
            "_view_name": "ButtonView",
            "button_style": "",
            "description": "Classify",
            "disabled": false,
            "icon": "",
            "layout": "IPY_MODEL_0755d1bcdf1b4783a3cbf1ec9ae7304d",
            "style": "IPY_MODEL_f923b61aab384c519c76efd3668613cf",
            "tooltip": ""
          }
        },
        "004d2c2b45b04eff91d0f17b5b9db34f": {
          "model_module": "@jupyter-widgets/output",
          "model_name": "OutputModel",
          "model_module_version": "1.0.0",
          "state": {
            "_dom_classes": [],
            "_model_module": "@jupyter-widgets/output",
            "_model_module_version": "1.0.0",
            "_model_name": "OutputModel",
            "_view_count": null,
            "_view_module": "@jupyter-widgets/output",
            "_view_module_version": "1.0.0",
            "_view_name": "OutputView",
            "layout": "IPY_MODEL_d969be746b204426a4337f4d7e97193a",
            "msg_id": "",
            "outputs": [
              {
                "output_type": "display_data",
                "data": {
                  "text/plain": "<PIL.Image.Image image mode=RGB size=128x96 at 0x7FA577B65E90>",
                  "image/png": "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\n"
                },
                "metadata": {}
              }
            ]
          }
        },
        "4b5ef854327244a8a40f8bb12a60730f": {
          "model_module": "@jupyter-widgets/controls",
          "model_name": "LabelModel",
          "model_module_version": "1.5.0",
          "state": {
            "_dom_classes": [],
            "_model_module": "@jupyter-widgets/controls",
            "_model_module_version": "1.5.0",
            "_model_name": "LabelModel",
            "_view_count": null,
            "_view_module": "@jupyter-widgets/controls",
            "_view_module_version": "1.5.0",
            "_view_name": "LabelView",
            "description": "",
            "description_tooltip": null,
            "layout": "IPY_MODEL_61fc4552c0ad4c75b0ddeebf649de2f3",
            "placeholder": "​",
            "style": "IPY_MODEL_92a747b65aca4198a56c0db90c813869",
            "value": "Prediction: grizzly; Probability: 0.9999"
          }
        },
        "ece97fa6758646d2804de7c4d7adb7f2": {
          "model_module": "@jupyter-widgets/base",
          "model_name": "LayoutModel",
          "model_module_version": "1.2.0",
          "state": {
            "_model_module": "@jupyter-widgets/base",
            "_model_module_version": "1.2.0",
            "_model_name": "LayoutModel",
            "_view_count": null,
            "_view_module": "@jupyter-widgets/base",
            "_view_module_version": "1.2.0",
            "_view_name": "LayoutView",
            "align_content": null,
            "align_items": null,
            "align_self": null,
            "border": null,
            "bottom": null,
            "display": null,
            "flex": null,
            "flex_flow": null,
            "grid_area": null,
            "grid_auto_columns": null,
            "grid_auto_flow": null,
            "grid_auto_rows": null,
            "grid_column": null,
            "grid_gap": null,
            "grid_row": null,
            "grid_template_areas": null,
            "grid_template_columns": null,
            "grid_template_rows": null,
            "height": null,
            "justify_content": null,
            "justify_items": null,
            "left": null,
            "margin": null,
            "max_height": null,
            "max_width": null,
            "min_height": null,
            "min_width": null,
            "object_fit": null,
            "object_position": null,
            "order": null,
            "overflow": null,
            "overflow_x": null,
            "overflow_y": null,
            "padding": null,
            "right": null,
            "top": null,
            "visibility": null,
            "width": null
          }
        },
        "012a085a399f49219a8ef89c8c3114de": {
          "model_module": "@jupyter-widgets/base",
          "model_name": "LayoutModel",
          "model_module_version": "1.2.0",
          "state": {
            "_model_module": "@jupyter-widgets/base",
            "_model_module_version": "1.2.0",
            "_model_name": "LayoutModel",
            "_view_count": null,
            "_view_module": "@jupyter-widgets/base",
            "_view_module_version": "1.2.0",
            "_view_name": "LayoutView",
            "align_content": null,
            "align_items": null,
            "align_self": null,
            "border": null,
            "bottom": null,
            "display": null,
            "flex": null,
            "flex_flow": null,
            "grid_area": null,
            "grid_auto_columns": null,
            "grid_auto_flow": null,
            "grid_auto_rows": null,
            "grid_column": null,
            "grid_gap": null,
            "grid_row": null,
            "grid_template_areas": null,
            "grid_template_columns": null,
            "grid_template_rows": null,
            "height": null,
            "justify_content": null,
            "justify_items": null,
            "left": null,
            "margin": null,
            "max_height": null,
            "max_width": null,
            "min_height": null,
            "min_width": null,
            "object_fit": null,
            "object_position": null,
            "order": null,
            "overflow": null,
            "overflow_x": null,
            "overflow_y": null,
            "padding": null,
            "right": null,
            "top": null,
            "visibility": null,
            "width": null
          }
        },
        "cb93a9eb09b04f378e44a313fcee7dc7": {
          "model_module": "@jupyter-widgets/controls",
          "model_name": "DescriptionStyleModel",
          "model_module_version": "1.5.0",
          "state": {
            "_model_module": "@jupyter-widgets/controls",
            "_model_module_version": "1.5.0",
            "_model_name": "DescriptionStyleModel",
            "_view_count": null,
            "_view_module": "@jupyter-widgets/base",
            "_view_module_version": "1.2.0",
            "_view_name": "StyleView",
            "description_width": ""
          }
        },
        "3162f4f940974a5c88a4f4cd518b66aa": {
          "model_module": "@jupyter-widgets/base",
          "model_name": "LayoutModel",
          "model_module_version": "1.2.0",
          "state": {
            "_model_module": "@jupyter-widgets/base",
            "_model_module_version": "1.2.0",
            "_model_name": "LayoutModel",
            "_view_count": null,
            "_view_module": "@jupyter-widgets/base",
            "_view_module_version": "1.2.0",
            "_view_name": "LayoutView",
            "align_content": null,
            "align_items": null,
            "align_self": null,
            "border": null,
            "bottom": null,
            "display": null,
            "flex": null,
            "flex_flow": null,
            "grid_area": null,
            "grid_auto_columns": null,
            "grid_auto_flow": null,
            "grid_auto_rows": null,
            "grid_column": null,
            "grid_gap": null,
            "grid_row": null,
            "grid_template_areas": null,
            "grid_template_columns": null,
            "grid_template_rows": null,
            "height": null,
            "justify_content": null,
            "justify_items": null,
            "left": null,
            "margin": null,
            "max_height": null,
            "max_width": null,
            "min_height": null,
            "min_width": null,
            "object_fit": null,
            "object_position": null,
            "order": null,
            "overflow": null,
            "overflow_x": null,
            "overflow_y": null,
            "padding": null,
            "right": null,
            "top": null,
            "visibility": null,
            "width": null
          }
        },
        "5c7b36938fb14514be05a8999109acbc": {
          "model_module": "@jupyter-widgets/controls",
          "model_name": "ButtonStyleModel",
          "model_module_version": "1.5.0",
          "state": {
            "_model_module": "@jupyter-widgets/controls",
            "_model_module_version": "1.5.0",
            "_model_name": "ButtonStyleModel",
            "_view_count": null,
            "_view_module": "@jupyter-widgets/base",
            "_view_module_version": "1.2.0",
            "_view_name": "StyleView",
            "button_color": null,
            "font_weight": ""
          }
        },
        "0755d1bcdf1b4783a3cbf1ec9ae7304d": {
          "model_module": "@jupyter-widgets/base",
          "model_name": "LayoutModel",
          "model_module_version": "1.2.0",
          "state": {
            "_model_module": "@jupyter-widgets/base",
            "_model_module_version": "1.2.0",
            "_model_name": "LayoutModel",
            "_view_count": null,
            "_view_module": "@jupyter-widgets/base",
            "_view_module_version": "1.2.0",
            "_view_name": "LayoutView",
            "align_content": null,
            "align_items": null,
            "align_self": null,
            "border": null,
            "bottom": null,
            "display": null,
            "flex": null,
            "flex_flow": null,
            "grid_area": null,
            "grid_auto_columns": null,
            "grid_auto_flow": null,
            "grid_auto_rows": null,
            "grid_column": null,
            "grid_gap": null,
            "grid_row": null,
            "grid_template_areas": null,
            "grid_template_columns": null,
            "grid_template_rows": null,
            "height": null,
            "justify_content": null,
            "justify_items": null,
            "left": null,
            "margin": null,
            "max_height": null,
            "max_width": null,
            "min_height": null,
            "min_width": null,
            "object_fit": null,
            "object_position": null,
            "order": null,
            "overflow": null,
            "overflow_x": null,
            "overflow_y": null,
            "padding": null,
            "right": null,
            "top": null,
            "visibility": null,
            "width": null
          }
        },
        "f923b61aab384c519c76efd3668613cf": {
          "model_module": "@jupyter-widgets/controls",
          "model_name": "ButtonStyleModel",
          "model_module_version": "1.5.0",
          "state": {
            "_model_module": "@jupyter-widgets/controls",
            "_model_module_version": "1.5.0",
            "_model_name": "ButtonStyleModel",
            "_view_count": null,
            "_view_module": "@jupyter-widgets/base",
            "_view_module_version": "1.2.0",
            "_view_name": "StyleView",
            "button_color": null,
            "font_weight": ""
          }
        },
        "61fc4552c0ad4c75b0ddeebf649de2f3": {
          "model_module": "@jupyter-widgets/base",
          "model_name": "LayoutModel",
          "model_module_version": "1.2.0",
          "state": {
            "_model_module": "@jupyter-widgets/base",
            "_model_module_version": "1.2.0",
            "_model_name": "LayoutModel",
            "_view_count": null,
            "_view_module": "@jupyter-widgets/base",
            "_view_module_version": "1.2.0",
            "_view_name": "LayoutView",
            "align_content": null,
            "align_items": null,
            "align_self": null,
            "border": null,
            "bottom": null,
            "display": null,
            "flex": null,
            "flex_flow": null,
            "grid_area": null,
            "grid_auto_columns": null,
            "grid_auto_flow": null,
            "grid_auto_rows": null,
            "grid_column": null,
            "grid_gap": null,
            "grid_row": null,
            "grid_template_areas": null,
            "grid_template_columns": null,
            "grid_template_rows": null,
            "height": null,
            "justify_content": null,
            "justify_items": null,
            "left": null,
            "margin": null,
            "max_height": null,
            "max_width": null,
            "min_height": null,
            "min_width": null,
            "object_fit": null,
            "object_position": null,
            "order": null,
            "overflow": null,
            "overflow_x": null,
            "overflow_y": null,
            "padding": null,
            "right": null,
            "top": null,
            "visibility": null,
            "width": null
          }
        },
        "92a747b65aca4198a56c0db90c813869": {
          "model_module": "@jupyter-widgets/controls",
          "model_name": "DescriptionStyleModel",
          "model_module_version": "1.5.0",
          "state": {
            "_model_module": "@jupyter-widgets/controls",
            "_model_module_version": "1.5.0",
            "_model_name": "DescriptionStyleModel",
            "_view_count": null,
            "_view_module": "@jupyter-widgets/base",
            "_view_module_version": "1.2.0",
            "_view_name": "StyleView",
            "description_width": ""
          }
        },
        "d969be746b204426a4337f4d7e97193a": {
          "model_module": "@jupyter-widgets/base",
          "model_name": "LayoutModel",
          "model_module_version": "1.2.0",
          "state": {
            "_model_module": "@jupyter-widgets/base",
            "_model_module_version": "1.2.0",
            "_model_name": "LayoutModel",
            "_view_count": null,
            "_view_module": "@jupyter-widgets/base",
            "_view_module_version": "1.2.0",
            "_view_name": "LayoutView",
            "align_content": null,
            "align_items": null,
            "align_self": null,
            "border": null,
            "bottom": null,
            "display": null,
            "flex": null,
            "flex_flow": null,
            "grid_area": null,
            "grid_auto_columns": null,
            "grid_auto_flow": null,
            "grid_auto_rows": null,
            "grid_column": null,
            "grid_gap": null,
            "grid_row": null,
            "grid_template_areas": null,
            "grid_template_columns": null,
            "grid_template_rows": null,
            "height": null,
            "justify_content": null,
            "justify_items": null,
            "left": null,
            "margin": null,
            "max_height": null,
            "max_width": null,
            "min_height": null,
            "min_width": null,
            "object_fit": null,
            "object_position": null,
            "order": null,
            "overflow": null,
            "overflow_x": null,
            "overflow_y": null,
            "padding": null,
            "right": null,
            "top": null,
            "visibility": null,
            "width": null
          }
        }
      }
    }
  },
  "nbformat": 4,
  "nbformat_minor": 0
}